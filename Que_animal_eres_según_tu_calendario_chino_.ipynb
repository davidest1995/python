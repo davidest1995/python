{
  "nbformat": 4,
  "nbformat_minor": 0,
  "metadata": {
    "colab": {
      "name": "Que animal eres según tu calendario chino.",
      "provenance": [],
      "authorship_tag": "ABX9TyMIVSrd2iNRcGQqmRGLg6JY",
      "include_colab_link": true
    },
    "kernelspec": {
      "name": "python3",
      "display_name": "Python 3"
    },
    "language_info": {
      "name": "python"
    }
  },
  "cells": [
    {
      "cell_type": "markdown",
      "metadata": {
        "id": "view-in-github",
        "colab_type": "text"
      },
      "source": [
        "<a href=\"https://colab.research.google.com/github/davidest1995/python/blob/master/Que_animal_eres_seg%C3%BAn_tu_calendario_chino_.ipynb\" target=\"_parent\"><img src=\"https://colab.research.google.com/assets/colab-badge.svg\" alt=\"Open In Colab\"/></a>"
      ]
    },
    {
      "cell_type": "code",
      "execution_count": 78,
      "metadata": {
        "colab": {
          "base_uri": "https://localhost:8080/"
        },
        "id": "Ef0a_jeWQf7g",
        "outputId": "105ecbd1-6b5f-4b07-9417-e42a5883885b"
      },
      "outputs": [
        {
          "output_type": "stream",
          "name": "stdout",
          "text": [
            "**************************************************\n",
            "    DESCUBRE TU ANIMAL EN EL CALENDARIO CHINO\n",
            "**************************************************\n",
            "¿En que año naciste? 1973\n",
            "El animal que te representa es el Buey en el calendario chino\n"
          ]
        }
      ],
      "source": [
        "C = 4\n",
        "listAnimals = {0 : 'la Rata', \n",
        "               1 : 'el Buey', \n",
        "               2 : 'el Tigre', \n",
        "               3 : 'el Conejo', \n",
        "               4 : 'el Dragón', \n",
        "               5 : 'la Serpiente', \n",
        "               6 : 'el Caballo', \n",
        "               7 : 'la Cabra', \n",
        "               8 : 'el Mono', \n",
        "               9 : 'el Gallo', \n",
        "               10 : 'el Perro', \n",
        "               11 : 'el Cerdo'}\n",
        "\n",
        "def yearRange(bitrthTear):\n",
        "  n = 0\n",
        "  while n >= 0 :\n",
        "    for i in range(0,12):\n",
        "      if ((C + i) + (n*12)) == birthYear:\n",
        "        print('El animal que te representa es {} en el calendario chino'.format(listAnimals[i]))\n",
        "        return True\n",
        "      elif ((C + i) + (n*12)) > birthYear:\n",
        "        raise StopIteration\n",
        "    n += 1\n",
        "\n",
        "if __name__ == '__main__':\n",
        "  print('*'*50) \n",
        "  print('    DESCUBRE TU ANIMAL EN EL CALENDARIO CHINO')\n",
        "  print('*'*50)\n",
        "  birthYear = int(input('¿En que año naciste? '))\n",
        "  yearRange(birthYear)"
      ]
    }
  ]
}