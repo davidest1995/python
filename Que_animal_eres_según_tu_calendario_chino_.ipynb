{
  "nbformat": 4,
  "nbformat_minor": 0,
  "metadata": {
    "colab": {
      "name": "Que animal eres según tu calendario chino.",
      "provenance": [],
      "authorship_tag": "ABX9TyMYoW7otv0MJInORYkDoIGC",
      "include_colab_link": true
    },
    "kernelspec": {
      "name": "python3",
      "display_name": "Python 3"
    },
    "language_info": {
      "name": "python"
    }
  },
  "cells": [
    {
      "cell_type": "markdown",
      "metadata": {
        "id": "view-in-github",
        "colab_type": "text"
      },
      "source": [
        "<a href=\"https://colab.research.google.com/github/davidest1995/python/blob/master/Que_animal_eres_seg%C3%BAn_tu_calendario_chino_.ipynb\" target=\"_parent\"><img src=\"https://colab.research.google.com/assets/colab-badge.svg\" alt=\"Open In Colab\"/></a>"
      ]
    },
    {
      "cell_type": "code",
      "execution_count": 2,
      "metadata": {
        "colab": {
          "base_uri": "https://localhost:8080/"
        },
        "id": "Ef0a_jeWQf7g",
        "outputId": "bf546b23-7d18-41d3-a377-683ad3983f49"
      },
      "outputs": [
        {
          "output_type": "stream",
          "name": "stdout",
          "text": [
            "****************************************************************************************************\n",
            "       DESCUBRE EL ANIMAL A LA QUE CORRESPONDE UNA FECHA DE NACIMIENTO EN EL CALENDARIO CHINO\n",
            "****************************************************************************************************\n",
            "¿CUAL ES LA FECHA DE NACIMIENTO? 1995\n",
            "El animal que te representa es el Cerdo en el calendario chino y su descripción: Es un animal sincero, honesto, confiado, educado, cariñoso, servicial, valiente, decidido, con gran fuerza de voluntad, sin grandes pretensiones ni vanidad, con los pies en la tierra. Son muy agradables y tienen gusto y modales impecables. En el amor son sensuales, apasionado y pacientes, pero hasta un punto. Son muy trabajadores, aunque la falta de atracción por el deporte y la apatía harán que su físico se resienta y engorde en exceso.\n"
          ]
        }
      ],
      "source": [
        "C = 4\n",
        "listAnimals = {0 : 'la Rata', \n",
        "               1 : 'el Buey', \n",
        "               2 : 'el Tigre', \n",
        "               3 : 'el Conejo', \n",
        "               4 : 'el Dragón', \n",
        "               5 : 'la Serpiente', \n",
        "               6 : 'el Caballo', \n",
        "               7 : 'la Cabra', \n",
        "               8 : 'el Mono', \n",
        "               9 : 'el Gallo', \n",
        "               10 : 'el Perro', \n",
        "               11 : 'el Cerdo'}\n",
        "\n",
        "description = {0 : 'Los nacidos bajo el signo de la Rata son persona sabias a las que les gusta rodearse de familiares y amigos, a quienes ayudan en sus quehaceres y problemas diarios. Buenas trabajadoras, ahorradores y buenos administradores de su economía.', \n",
        "               1 : 'Los búfalos o bueyes son animales pacientes y tranquilos, que irradian mucho cariño y amor e infunden respeto. Grandes trabajadores, se sienten a gusto rodeados del orden y la limpieza y logran el éxito gracias a su esfuerzo. Para ellos lo más importante es la familia, aunque son celosos con su pareja. Aman el arte y la música. No les gusta discutir, aunque sí que le obedezcan.', \n",
        "               2 : 'Las personas de este signo son muy pasionales y llenas de energía. No pasan desapercibidas, son aventureros, independientes, ingeniosos, impulsivos y les gusta la diversión. Son amigos para toda la vida, aunque les gusta ser el líder del grupo. En el mundo de las relaciones de pareja se muestran el más fuerte, sexy y seductor, aunque de comportamiento excesivo.', \n",
        "               3 : 'Los que nacen en el Año del Conejo reúnen extraordinarias cualidades humanas: son prudentes, inteligentes, afables, discretos, previsores, atentos y benevolentes. Por eso, el signo del conejo es ampliamente aceptado por la gente.De carácter moderado e indulgente, amante de la paz y la concordia, el conejo odia la guerra y la violencia. Le gusta la vida tranquila, la ternura y la armonía.', \n",
        "               4 : 'Símbolo del Emperador en China, el dragón es imaginativo, magnánimo, emprendedor, afortunado y poderoso. Está lleno de fuerza y vitalidad. Es un verdadero acumulador de energía y si le enojas, se enfurecerá de tal manera que perderá los estribos. Será difícil calmarle, pues no cree ni a nadie ni en nadie. Suelen dar buenos consejos y son afortunados tanto en el dinero como en el amor. Son muy sentimentales y se enamoran locamente.', \n",
        "               5 : 'Las personas Serpientes son astutas, saben lo que quieren y cómo conseguirlo. Su conversación es elegante y fluida. Son intensos y prudentes a la vez. Son celosas y posesivas con su familia pero leales. Les gusta mimar a sus amigos y esperan de ellos una actitud recíproca. Si se sienten desdeñados o fracasan en sus tentativas, pueden estar enfadados durante horas, aunque son buenas para mantener la calma y parecer tranquilas en situaciones difíciles.', \n",
        "               6 : 'Populares, optimistas, llenos de alegría, aventureros, elocuentes, impacientes, emprendedores, entusiastas con la vida, grandes amantes y amigos. Su gran pasión es el dinero y los viajes. Les gusta conocer gente nueva, distintas culturas, hablar idiomas y son el alma de las fiestas. Su atractivo físico y su belleza hace que les sea fácil encontrar el amor: trampa en la que caen sin remedio.', \n",
        "               7 : 'La cabra es creativa, artística, positiva, elegante, femenina, afable, compasiva, llorona, sensible, soñadora, orgullosa y triste. No persiguen la riqueza material y prefieren vivir de sus ensoñaciones. Aman la familia, los niños, el hogar y estar en contacto con la naturaleza. Son muy trabajadoras, aunque no les gusta la presión ni de una fecha límite, ni de un jefe.', \n",
        "               8 : 'Animal más parecido al ser humano, es ingenioso, divertido, simpático, de mente rápida y despierta, comprador, persuasivo, sociable, capaces de resolver cualquier problema por difícil que sea con soltura. Sus relaciones amorosas y con los amigos suelen ser conflictivas, pues no soporta que no lo valoren. Gozan de buena salud, aunque sus excesos en las fiestas, alcohol y drogas podrían pasarle factura.', \n",
        "               9 : 'Atractivo y seductor, con talento y apreciado. Son meticulosos, eficientes, ordenados, buenos conversadores, observadores, egoístas, usureros, pragmáticos y muy familiares. En el amor son románticos, obstinados y luchan por el control de su pareja. Suelen destacar como relaciones públicas o como artistas. No prestan demasiada atención a su salud.', \n",
        "               10 : 'El perro es un ser dedicado al trabajo, honesto, confiable, diligente, con un gran sentido de la justicia y la lealtad. Cautiva a todos con su personalidad excitante, su buen humor y su gran capacidad para escuchar los problemas de los demás y dar buenos consejos. En el amor son fieles y leales, aunque muy celoso cuando su pareja no está en casa. Los nervios son su mayor problema de salud.', \n",
        "               11 : 'Es un animal sincero, honesto, confiado, educado, cariñoso, servicial, valiente, decidido, con gran fuerza de voluntad, sin grandes pretensiones ni vanidad, con los pies en la tierra. Son muy agradables y tienen gusto y modales impecables. En el amor son sensuales, apasionado y pacientes, pero hasta un punto. Son muy trabajadores, aunque la falta de atracción por el deporte y la apatía harán que su físico se resienta y engorde en exceso.'}\n",
        "\n",
        "def yearRange(bitrthTear):\n",
        "  n = 0\n",
        "  while n >= 0 :\n",
        "    for i in range(0,12):\n",
        "      if ((C + i) + (n*12)) == birthYear:\n",
        "        print('El animal que te representa es {} en el calendario chino y su descripción: {}'.format(listAnimals[i], description[i]))\n",
        "        return True\n",
        "      elif ((C + i) + (n*12)) > birthYear:\n",
        "        raise StopIteration\n",
        "    n += 1\n",
        "\n",
        "if __name__ == '__main__':\n",
        "  print('*'*100) \n",
        "  print('       DESCUBRE EL ANIMAL A LA QUE CORRESPONDE UNA FECHA DE NACIMIENTO EN EL CALENDARIO CHINO')\n",
        "  print('*'*100)\n",
        "  birthYear = int(input('¿CUAL ES LA FECHA DE NACIMIENTO? '))\n",
        "  yearRange(birthYear)"
      ]
    }
  ]
}